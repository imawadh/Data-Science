{
 "cells": [
  {
   "cell_type": "code",
   "execution_count": 1,
   "metadata": {},
   "outputs": [
    {
     "name": "stdout",
     "output_type": "stream",
     "text": [
      "Hello World\n"
     ]
    }
   ],
   "source": [
    "print(\"Hello World\")"
   ]
  },
  {
   "cell_type": "markdown",
   "metadata": {},
   "source": [
    "Vectors, within the context of Data Science, represent ordered collections of numerical values endowed with both magnitude and directionality. "
   ]
  },
  {
   "cell_type": "code",
   "execution_count": 2,
   "metadata": {},
   "outputs": [
    {
     "data": {
      "text/plain": [
       "array([ 2. , -3. ,  1.5])"
      ]
     },
     "execution_count": 2,
     "metadata": {},
     "output_type": "execute_result"
    }
   ],
   "source": [
    "import numpy as np\n",
    "# Vectors can be represented as one-dimensional arrays\n",
    "vector = np.array([2, -3, 1.5])\n",
    "vector"
   ]
  },
  {
   "cell_type": "markdown",
   "metadata": {},
   "source": [
    "In the field of computer science, when we call a vector it doesn't mean that it has physical direction. e.g; the weight of a person of all the 12 months in a year is a wight vector."
   ]
  },
  {
   "cell_type": "markdown",
   "metadata": {},
   "source": [
    "## Vector Addition"
   ]
  },
  {
   "cell_type": "markdown",
   "metadata": {},
   "source": [
    "Vectors cannot be added by usual algebraic rules. While adding two vectors, the magnitude and the direction of the vectors must be taken into account.\n",
    "\n",
    "Triangle law is used to add two vectors, the diagram below shows two vectors “a” and “b” and the resultant is calculated after their addition"
   ]
  },
  {
   "cell_type": "markdown",
   "metadata": {},
   "source": [
    "## Properties of Vector Addition\n",
    "1. Commutative Property:\n",
    "    A+B=B+A\n",
    "\n",
    "2. Associative Property:\n",
    "    (A+B)+C=A+(B+C)\n",
    "\n",
    "3. Additive Identity:\n",
    "    A+0=A\n",
    "\n",
    "4. Additive Inverse:\n",
    "    A+(-A)=0"
   ]
  },
  {
   "cell_type": "markdown",
   "metadata": {},
   "source": [
    "# Methods of Vector Addition"
   ]
  },
  {
   "cell_type": "markdown",
   "metadata": {},
   "source": [
    "# a. Tip-to-Tail Method\n",
    "1 Place the tail of the second vector at the tip of the first vector.\n",
    "2. Draw the resultant vector from the tail of the first vector to the tip of the second vector.\n",
    "# b. Parallelogram Method\n",
    "1. Place the two vectors starting from the same origin.\n",
    "2. Complete the parallelogram formed by the two vectors.\n",
    "3. The diagonal of the parallelogram represents the resultant vector.\n"
   ]
  },
  {
   "cell_type": "code",
   "execution_count": 9,
   "metadata": {},
   "outputs": [
    {
     "name": "stdout",
     "output_type": "stream",
     "text": [
      "+--------------------+------------------------------+----------------------------------------+\n",
      "| Method               | Input Type                     | Use Case                                 |\n",
      "+--------------------+------------------------------+----------------------------------------+\n",
      "| Component-Wise       | Cartesian coordinates          | Fast and precise                         |\n",
      "| Tip-to-Tail          | Graphical vectors              | Visualization of vector addition         |\n",
      "| Parallelogram        | Graphical vectors              | Simple in 2D space                       |\n",
      "| Polar Form           | Magnitude and angle (r, θ)     | Circular motion, waves                   |\n",
      "| Law of Cosines/Sines | Magnitude and angle            | Physics problems                         |\n",
      "| 3D Addition          | Cartesian coordinates in 3D    | 3D physics or vector fields              |\n",
      "+--------------------+------------------------------+----------------------------------------+\n"
     ]
    }
   ],
   "source": [
    "import pandas as pd\n",
    "\n",
    "# Define data for the table\n",
    "data = {\n",
    "    \"Method\": [\n",
    "        \"Component-Wise\",\n",
    "        \"Tip-to-Tail\",\n",
    "        \"Parallelogram\",\n",
    "        \"Polar Form\",\n",
    "        \"Law of Cosines/Sines\",\n",
    "        \"3D Addition\"\n",
    "    ],\n",
    "    \"Input Type\": [\n",
    "        \"Cartesian coordinates\",\n",
    "        \"Graphical vectors\",\n",
    "        \"Graphical vectors\",\n",
    "        \"Magnitude and angle (r, \\u03b8)\",\n",
    "        \"Magnitude and angle\",\n",
    "        \"Cartesian coordinates in 3D\"\n",
    "    ],\n",
    "    \"Use Case\": [\n",
    "        \"Fast and precise\",\n",
    "        \"Visualization of vector addition\",\n",
    "        \"Simple in 2D space\",\n",
    "        \"Circular motion, waves\",\n",
    "        \"Physics problems\",\n",
    "        \"3D physics or vector fields\"\n",
    "    ]\n",
    "}\n",
    "\n",
    "# Create a DataFrame\n",
    "df = pd.DataFrame(data)\n",
    "\n",
    "# Display the table with lines\n",
    "def display_table_with_lines(df):\n",
    "    print(\"+\" + \"-\" * 20 + \"+\" + \"-\" * 30 + \"+\" + \"-\" * 40 + \"+\")\n",
    "    print(f\"| {'Method':<20} | {'Input Type':<30} | {'Use Case':<40} |\")\n",
    "    print(\"+\" + \"-\" * 20 + \"+\" + \"-\" * 30 + \"+\" + \"-\" * 40 + \"+\")\n",
    "    for _, row in df.iterrows():\n",
    "        print(f\"| {row['Method']:<20} | {row['Input Type']:<30} | {row['Use Case']:<40} |\")\n",
    "    print(\"+\" + \"-\" * 20 + \"+\" + \"-\" * 30 + \"+\" + \"-\" * 40 + \"+\")\n",
    "\n",
    "# Call the function\n",
    "display_table_with_lines(df)\n"
   ]
  },
  {
   "cell_type": "markdown",
   "metadata": {},
   "source": [
    "# Vector Substraction"
   ]
  },
  {
   "cell_type": "code",
   "execution_count": 13,
   "metadata": {},
   "outputs": [
    {
     "name": "stdout",
     "output_type": "stream",
     "text": [
      "A-B =  A + (-B)\n"
     ]
    }
   ],
   "source": [
    "print(\"A-B =  A + (-B)\") # It is all about Vector Substraction"
   ]
  },
  {
   "cell_type": "markdown",
   "metadata": {},
   "source": [
    "# Vector Multiplication"
   ]
  },
  {
   "cell_type": "code",
   "execution_count": 12,
   "metadata": {},
   "outputs": [],
   "source": []
  },
  {
   "cell_type": "code",
   "execution_count": null,
   "metadata": {},
   "outputs": [],
   "source": []
  }
 ],
 "metadata": {
  "kernelspec": {
   "display_name": "base",
   "language": "python",
   "name": "python3"
  },
  "language_info": {
   "codemirror_mode": {
    "name": "ipython",
    "version": 3
   },
   "file_extension": ".py",
   "mimetype": "text/x-python",
   "name": "python",
   "nbconvert_exporter": "python",
   "pygments_lexer": "ipython3",
   "version": "3.12.4"
  }
 },
 "nbformat": 4,
 "nbformat_minor": 2
}
