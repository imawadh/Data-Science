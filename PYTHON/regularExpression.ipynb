{
 "cells": [
  {
   "cell_type": "code",
   "execution_count": 1,
   "metadata": {},
   "outputs": [
    {
     "name": "stdout",
     "output_type": "stream",
     "text": [
      "Hi I am learnig regular expression\n"
     ]
    }
   ],
   "source": [
    "print(\"Hi I am learnig regular expression\")"
   ]
  },
  {
   "cell_type": "markdown",
   "metadata": {},
   "source": [
    "#### When to use Regular Expression and when not to use it .."
   ]
  },
  {
   "cell_type": "markdown",
   "metadata": {},
   "source": [
    "We should not use basic pattern matching using regular exprseeion already 'in' operator is there. We can even use.\n"
   ]
  },
  {
   "cell_type": "markdown",
   "metadata": {},
   "source": [
    "1. \" [] \" --> it matches character class\n",
    "2. \" ^  \" --> matches the beginning \n",
    "2. \" $  \" --> matches the end\n",
    "2. \" .  \" --> matches any character except newline\n",
    "2. \" ?  \" --> matches zero or one occurance \n",
    "2. \" |  \" --> means OR (Maches with any of the charcter)\n",
    "2. \" *  \" --> it includes any number of occurance (including 0 occurance)\n",
    "2. \" +  \" --> One or more occurance \n"
   ]
  },
  {
   "cell_type": "code",
   "execution_count": 2,
   "metadata": {},
   "outputs": [],
   "source": [
    "import re"
   ]
  },
  {
   "cell_type": "code",
   "execution_count": 3,
   "metadata": {},
   "outputs": [],
   "source": [
    "virat = ''' \n",
    "    Virat Kohli (born 5 November 1988) is an Indian international cricketer and the former captain of the Indian national cricket team. He is a right-handed batsman and an occasional medium-fast bowler. He currently represents Royal Challengers Bengaluru in the IPL and Delhi Helhi Zelhi in domestic cricket. Kohli is widely regarded as one of the greatest batters of all time.[3] He also holds the record for scoring the most centuries in ODI cricket and stands second in the list of most international centuries scored, and is highest run-scorer in IPL. Kohli was a member of the Indian team that won the 2011 Cricket World Cup, 2013 ICC Champions Trophy, 2024 T20 World Cup and 2025 Champions Trophy. Further captained India to win the ICC Test mace three consecutive times in 2017, 2018, and 2019.\n",
    "'''"
   ]
  },
  {
   "cell_type": "code",
   "execution_count": 4,
   "metadata": {},
   "outputs": [
    {
     "name": "stdout",
     "output_type": "stream",
     "text": [
      "<class 'NoneType'>\n"
     ]
    }
   ],
   "source": [
    "pattern = \"2089\"\n",
    "match = re.search(pattern,virat)\n",
    "print(type(match))\n",
    "# match return a object / None and as soon as it found it return else it seach till the end of string \n"
   ]
  },
  {
   "cell_type": "code",
   "execution_count": 5,
   "metadata": {},
   "outputs": [
    {
     "name": "stdout",
     "output_type": "stream",
     "text": [
      "<re.Match object; span=(272, 277), match='Delhi'>\n",
      "<re.Match object; span=(278, 283), match='Helhi'>\n",
      "<re.Match object; span=(284, 289), match='Zelhi'>\n"
     ]
    }
   ],
   "source": [
    "pattern = \"[A-Z]elhi\"\n",
    "matches = re.finditer(pattern,virat)\n",
    "\n",
    "for match in matches:\n",
    "    print(match)"
   ]
  },
  {
   "cell_type": "code",
   "execution_count": null,
   "metadata": {},
   "outputs": [],
   "source": []
  }
 ],
 "metadata": {
  "kernelspec": {
   "display_name": "base",
   "language": "python",
   "name": "python3"
  },
  "language_info": {
   "codemirror_mode": {
    "name": "ipython",
    "version": 3
   },
   "file_extension": ".py",
   "mimetype": "text/x-python",
   "name": "python",
   "nbconvert_exporter": "python",
   "pygments_lexer": "ipython3",
   "version": "3.12.4"
  }
 },
 "nbformat": 4,
 "nbformat_minor": 2
}
